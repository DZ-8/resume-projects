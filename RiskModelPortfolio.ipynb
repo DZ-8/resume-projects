{
 "cells": [
  {
   "cell_type": "code",
   "execution_count": 2,
   "metadata": {},
   "outputs": [],
   "source": [
    "import pandas as pd\n",
    "import numpy as np\n",
    "import yfinance as yf\n",
    "from array import *\n",
    "from geneticalgorithm import geneticalgorithm as ga\n",
    "from scipy.optimize import minimize"
   ]
  },
  {
   "cell_type": "markdown",
   "metadata": {},
   "source": [
    "dataCompile() compiles all of the equities passed through the paramter and places them into a dataframe. It also removes any NaN values as well as sorts the prices so that it is most recent to least recent"
   ]
  },
  {
   "cell_type": "code",
   "execution_count": 3,
   "metadata": {},
   "outputs": [
    {
     "name": "stdout",
     "output_type": "stream",
     "text": [
      "[*********************100%***********************]  1 of 1 completed\n",
      "[*********************100%***********************]  1 of 1 completed\n",
      "[*********************100%***********************]  1 of 1 completed\n",
      "[*********************100%***********************]  1 of 1 completed\n",
      "[*********************100%***********************]  1 of 1 completed\n",
      "[*********************100%***********************]  1 of 1 completed\n",
      "[*********************100%***********************]  1 of 1 completed\n",
      "[*********************100%***********************]  1 of 1 completed\n",
      "[*********************100%***********************]  1 of 1 completed\n",
      "[*********************100%***********************]  1 of 1 completed\n",
      "[*********************100%***********************]  1 of 1 completed\n",
      "[*********************100%***********************]  1 of 1 completed\n",
      "[*********************100%***********************]  1 of 1 completed\n"
     ]
    }
   ],
   "source": [
    "ETFs = [\"IVV\", \"VB\", \"VO\", \"VTI\", \"VWO\", \"VXUS\", \"BSV\", \"BIV\", \"BLV\", \"GLD\", \"SLV\", \"VDE\", \"VNQ\"]\n",
    "def dataCompile(etf_list):\n",
    "    rawPricesdf = pd.DataFrame()\n",
    "\n",
    "    for ticker in etf_list:\n",
    "        data = yf.download(ticker)\n",
    "        flippedData = data['Adj Close'].iloc[::-1]\n",
    "        flippedData.name = ticker \n",
    "        rawPricesdf = pd.concat([rawPricesdf, flippedData], axis=1)\n",
    "        rawPricesdf.dropna(inplace = True)\n",
    "\n",
    "    return rawPricesdf\n",
    "    \n",
    "compiledData = dataCompile(ETFs)\n"
   ]
  },
  {
   "cell_type": "markdown",
   "metadata": {},
   "source": [
    "Historical Simulation Risk Model "
   ]
  },
  {
   "cell_type": "code",
   "execution_count": 4,
   "metadata": {},
   "outputs": [
    {
     "data": {
      "text/html": [
       "<div>\n",
       "<style scoped>\n",
       "    .dataframe tbody tr th:only-of-type {\n",
       "        vertical-align: middle;\n",
       "    }\n",
       "\n",
       "    .dataframe tbody tr th {\n",
       "        vertical-align: top;\n",
       "    }\n",
       "\n",
       "    .dataframe thead th {\n",
       "        text-align: right;\n",
       "    }\n",
       "</style>\n",
       "<table border=\"1\" class=\"dataframe\">\n",
       "  <thead>\n",
       "    <tr style=\"text-align: right;\">\n",
       "      <th></th>\n",
       "      <th>IVV</th>\n",
       "      <th>VB</th>\n",
       "      <th>VO</th>\n",
       "      <th>VTI</th>\n",
       "      <th>VWO</th>\n",
       "      <th>VXUS</th>\n",
       "      <th>BSV</th>\n",
       "      <th>BIV</th>\n",
       "      <th>BLV</th>\n",
       "      <th>GLD</th>\n",
       "      <th>SLV</th>\n",
       "      <th>VDE</th>\n",
       "      <th>VNQ</th>\n",
       "    </tr>\n",
       "  </thead>\n",
       "  <tbody>\n",
       "    <tr>\n",
       "      <th>Annualized Return</th>\n",
       "      <td>1.130840</td>\n",
       "      <td>1.092820</td>\n",
       "      <td>1.100569</td>\n",
       "      <td>1.125632</td>\n",
       "      <td>1.051623</td>\n",
       "      <td>1.050165</td>\n",
       "      <td>1.013100</td>\n",
       "      <td>1.019340</td>\n",
       "      <td>1.027805</td>\n",
       "      <td>1.042407</td>\n",
       "      <td>1.017149</td>\n",
       "      <td>1.057348</td>\n",
       "      <td>1.070801</td>\n",
       "    </tr>\n",
       "    <tr>\n",
       "      <th>Variance of Annualized Return</th>\n",
       "      <td>0.014578</td>\n",
       "      <td>0.020809</td>\n",
       "      <td>0.015168</td>\n",
       "      <td>0.015972</td>\n",
       "      <td>0.038461</td>\n",
       "      <td>0.017250</td>\n",
       "      <td>0.000786</td>\n",
       "      <td>0.003109</td>\n",
       "      <td>0.012110</td>\n",
       "      <td>0.006583</td>\n",
       "      <td>0.038792</td>\n",
       "      <td>0.067470</td>\n",
       "      <td>0.021878</td>\n",
       "    </tr>\n",
       "    <tr>\n",
       "      <th>Standard Deviation of Annualized Return</th>\n",
       "      <td>0.120738</td>\n",
       "      <td>0.144253</td>\n",
       "      <td>0.123157</td>\n",
       "      <td>0.126379</td>\n",
       "      <td>0.196114</td>\n",
       "      <td>0.131340</td>\n",
       "      <td>0.028032</td>\n",
       "      <td>0.055755</td>\n",
       "      <td>0.110044</td>\n",
       "      <td>0.081134</td>\n",
       "      <td>0.196957</td>\n",
       "      <td>0.259749</td>\n",
       "      <td>0.147913</td>\n",
       "    </tr>\n",
       "  </tbody>\n",
       "</table>\n",
       "</div>"
      ],
      "text/plain": [
       "                                              IVV        VB        VO  \\\n",
       "Annualized Return                        1.130840  1.092820  1.100569   \n",
       "Variance of Annualized Return            0.014578  0.020809  0.015168   \n",
       "Standard Deviation of Annualized Return  0.120738  0.144253  0.123157   \n",
       "\n",
       "                                              VTI       VWO      VXUS  \\\n",
       "Annualized Return                        1.125632  1.051623  1.050165   \n",
       "Variance of Annualized Return            0.015972  0.038461  0.017250   \n",
       "Standard Deviation of Annualized Return  0.126379  0.196114  0.131340   \n",
       "\n",
       "                                              BSV       BIV       BLV  \\\n",
       "Annualized Return                        1.013100  1.019340  1.027805   \n",
       "Variance of Annualized Return            0.000786  0.003109  0.012110   \n",
       "Standard Deviation of Annualized Return  0.028032  0.055755  0.110044   \n",
       "\n",
       "                                              GLD       SLV       VDE  \\\n",
       "Annualized Return                        1.042407  1.017149  1.057348   \n",
       "Variance of Annualized Return            0.006583  0.038792  0.067470   \n",
       "Standard Deviation of Annualized Return  0.081134  0.196957  0.259749   \n",
       "\n",
       "                                              VNQ  \n",
       "Annualized Return                        1.070801  \n",
       "Variance of Annualized Return            0.021878  \n",
       "Standard Deviation of Annualized Return  0.147913  "
      ]
     },
     "execution_count": 4,
     "metadata": {},
     "output_type": "execute_result"
    }
   ],
   "source": [
    "def HistoricalModel(prices):\n",
    "    metricsdf = pd.DataFrame(index = ['Annualized Return','Variance of Annualized Return','Standard Deviation of Annualized Return'])\n",
    "\n",
    "    for column in list(prices):\n",
    "        #calculate daily price changes using geometric mean\n",
    "        \n",
    "        dailyReturndf = pd.Series([0] * 2520)\n",
    "        for x in range(0, 2520):\n",
    "            oldPrice = prices[column].iloc[x+1] \n",
    "            currentPrice = prices[column].iloc[x]\n",
    "            tempReturn = (currentPrice - oldPrice) / oldPrice\n",
    "            dailyReturndf.iloc[x] = tempReturn\n",
    "\n",
    "        yearly_returnSeries = pd.Series([0] * 10)\n",
    "        for year in range(0, 2520, 252):\n",
    "             per_year_data = dailyReturndf.iloc[year: year + 252]\n",
    "\n",
    "             sumTemp = 1\n",
    "             for x in reversed(range(252)):\n",
    "                 sumTemp = sumTemp * (1 + per_year_data.iloc[x])\n",
    "            \n",
    "             per_year_Return = sumTemp\n",
    "             yearly_returnSeries.iloc[year//252] = per_year_Return \n",
    "             \n",
    "        YearlyReturn_Avg = np.average(yearly_returnSeries)\n",
    "        YearlyReturn_Var = yearly_returnSeries.var()\n",
    "        YearlyReturn_Std = yearly_returnSeries.std()\n",
    "\n",
    "        tempdf = pd.DataFrame(pd.DataFrame([YearlyReturn_Avg, YearlyReturn_Var, YearlyReturn_Std], index=['Annualized Return','Variance of Annualized Return','Standard Deviation of Annualized Return'], columns=[column]))\n",
    "\n",
    "        metricsdf[column] = tempdf\n",
    "    return metricsdf #average yearly return with variance/standard deviation of annual return         \n",
    "\n",
    "HistoricalModel(compiledData)\n",
    "            "
   ]
  },
  {
   "cell_type": "markdown",
   "metadata": {},
   "source": [
    "Iterative Monte Carlo Simulation"
   ]
  },
  {
   "cell_type": "code",
   "execution_count": 5,
   "metadata": {},
   "outputs": [],
   "source": [
    "def normDistr(mean, std, repeat):\n",
    "    #Use Box-Muller transformation to manually generate random numbers from a normal distribution based on unique mean and std.\n",
    "    list = np.empty(repeat)\n",
    "    for x in range (repeat):\n",
    "        u1 = np.random.rand()\n",
    "        u2 = np.random.rand()\n",
    "        z1 = np.sqrt(-2 * np.log(u1)) * np.cos(2 * np.pi * u2)\n",
    "        z1 = z1*std + mean\n",
    "\n",
    "        list[x] = z1\n",
    "    \n",
    "    return list\n",
    "\n",
    "#used to normalize portfolio weights for genetic algorithm solution\n",
    "def normalize_portfolio_weights(weights):\n",
    "    total = np.sum(weights)\n",
    "    for i in range(len(weights)):\n",
    "        weights[i] /= total\n",
    "    \n",
    "    return weights\n",
    "    "
   ]
  },
  {
   "cell_type": "code",
   "execution_count": 6,
   "metadata": {},
   "outputs": [],
   "source": [
    "def MonteCarloSimulation(prices, numYears, numSimulations, weights):\n",
    "    HistoricalMetrics = HistoricalModel(prices)\n",
    "    num_assets = len(prices.columns)\n",
    "    \n",
    "    indexfR = pd.Series()\n",
    "    for x in range(numYears):\n",
    "        indexfR[x] = 'Year ' + str(x)\n",
    "    \n",
    "    \n",
    "    indexnS = pd.Series()\n",
    "    for x in range(numSimulations):\n",
    "        indexnS[x] = 'Simulation ' + str(x + 1)\n",
    "\n",
    "    simulation_metrics_df = pd.DataFrame(index = indexnS, columns = ['Annualized Return'])\n",
    "    for x in range(numSimulations):\n",
    "        \n",
    "        future_returnsdf = pd.DataFrame(index = indexfR)\n",
    "        for k in range(num_assets):\n",
    "            mean = HistoricalMetrics.iloc[0,k]\n",
    "            std = HistoricalMetrics.iloc[2,k]\n",
    "            randomReturns = normDistr(mean,std,numYears)\n",
    "            future_returnsdf[prices.columns[k]] = randomReturns\n",
    "\n",
    "        portfolioReturn = 0\n",
    "        for y in range(len(future_returnsdf.columns)): #every asset\n",
    "            log_sum = np.sum(np.log(future_returnsdf.iloc[:, y]))\n",
    "            geo_mean = np.exp(log_sum / len(future_returnsdf.index)) - 1\n",
    "            weighted_geo_mean = geo_mean * weights[y]\n",
    "    \n",
    "            portfolioReturn += weighted_geo_mean\n",
    "        \n",
    "        simulation_metrics_df.iloc[x] = portfolioReturn\n",
    "  \n",
    "    return np.mean(simulation_metrics_df), np.std(simulation_metrics_df.iloc[:,0])"
   ]
  },
  {
   "cell_type": "markdown",
   "metadata": {},
   "source": [
    "Genetic Algorithm Optimization utilizing a monte carlo simulation to optimize sharpe weights by adjusting portfolio weights"
   ]
  },
  {
   "cell_type": "code",
   "execution_count": 16,
   "metadata": {},
   "outputs": [],
   "source": [
    "def objective_function(Weights): \n",
    "        mean_portfolio_return, std_portfolio_return = MonteCarloSimulation(compiledData, 5, 10,Weights)\n",
    "        sharpe_Ratio = ((mean_portfolio_return - .0525) / std_portfolio_return)\n",
    "\n",
    "        return (-sharpe_Ratio) # Negative for minimization\n",
    "\n",
    "def GeneticAlgorithmOptimization(prices):\n",
    "\n",
    "    num_assets = len(prices.columns)\n",
    "\n",
    "    varbound=np.array([[0,1]] * num_assets)\n",
    "    algorithm_param = {'max_num_iteration': 25,\n",
    "                        'population_size': 5,\n",
    "                        'mutation_probability' : .2, \n",
    "                        'elit_ratio' : .05, #how much of the top weights are kept \n",
    "                        'crossover_type': 'uniform',\n",
    "                        'crossover_probability': 0.9, #how much of previous is kept\n",
    "                        'parents_portion' : .3, #how much diversity to keep in the population \n",
    "                        'max_iteration_without_improv': None}\n",
    "\n",
    "    model = ga(function = objective_function, \n",
    "               dimension = num_assets, \n",
    "               variable_type='real', \n",
    "               variable_boundaries=varbound, \n",
    "               algorithm_parameters=algorithm_param)\n",
    "    \n",
    "    model.run()\n",
    "    \n",
    "    return model\n",
    "\n"
   ]
  },
  {
   "cell_type": "code",
   "execution_count": 17,
   "metadata": {},
   "outputs": [
    {
     "name": "stdout",
     "output_type": "stream",
     "text": [
      " The best solution found:                                                                           \n",
      " [0.3200033  0.57223887 0.67462065 0.64615666 0.01688437 0.9543882\n",
      " 0.26926905 0.31548053 0.57259103 0.6776351  0.01067269 0.02492473\n",
      " 0.78931102]\n",
      "\n",
      " Objective function:\n",
      " -9.962087868899669\n"
     ]
    },
    {
     "data": {
      "image/png": "[encoded data removed]",
      "text/plain": [
       "<Figure size 640x480 with 1 Axes>"
      ]
     },
     "metadata": {},
     "output_type": "display_data"
    },
    {
     "name": "stdout",
     "output_type": "stream",
     "text": [
      "<geneticalgorithm.geneticalgorithm.geneticalgorithm object at 0x13b230e50>\n"
     ]
    }
   ],
   "source": [
    "print(GeneticAlgorithmOptimization(compiledData))"
   ]
  },
  {
   "cell_type": "markdown",
   "metadata": {},
   "source": [
    "Covariance Matrix Risk Model "
   ]
  },
  {
   "cell_type": "code",
   "execution_count": 9,
   "metadata": {},
   "outputs": [],
   "source": [
    "def CovMatrixRiskModel(prices, years):\n",
    "    AllDailyReturndf = pd.DataFrame()\n",
    "    trading_days = years * 252\n",
    "\n",
    "    for column in list(prices):\n",
    "        #calculate daily price changes using geometric mean\n",
    "\n",
    "        dailyReturndf = pd.Series([0] * trading_days)\n",
    "        for x in range(0, trading_days):\n",
    "            oldPrice = prices[column].iloc[x+1] \n",
    "            currentPrice = prices[column].iloc[x]\n",
    "            tempReturn = (currentPrice - oldPrice) / oldPrice\n",
    "            dailyReturndf.iloc[x] = tempReturn\n",
    "        \n",
    "        AllDailyReturndf[column] = dailyReturndf\n",
    "    \n",
    "    num_assets = len(AllDailyReturndf.columns)\n",
    "    num_days = len(AllDailyReturndf.index)\n",
    "\n",
    "    covMatrix = pd.DataFrame(columns = prices.columns, index = prices.columns)\n",
    "    \n",
    "    #Calculates covariance between all assets\n",
    "    for i in range(num_assets):\n",
    "        for j in range(num_assets):\n",
    "            i_column = AllDailyReturndf.iloc[:,i]\n",
    "            j_column = AllDailyReturndf.iloc[:,j]\n",
    "            average_i_return = np.mean(i_column)\n",
    "            average_j_return = np.mean(j_column)\n",
    "\n",
    "            tempCOV = 0\n",
    "            for k in range(num_days):\n",
    "                tempCOV += (i_column.iloc[k] - average_i_return) * (j_column.iloc[k] - average_j_return)\n",
    "            \n",
    "            tempCOV/(num_days - 1)\n",
    "\n",
    "            covMatrix.iloc[i,j] = tempCOV\n",
    "    \n",
    "    return covMatrix #Covariance Matrix of daily return \n",
    "\n"
   ]
  },
  {
   "cell_type": "markdown",
   "metadata": {},
   "source": [
    "SLSQP optimization utilizing covariance matrix"
   ]
  },
  {
   "cell_type": "code",
   "execution_count": 10,
   "metadata": {},
   "outputs": [],
   "source": [
    "#For ease of use\n",
    "def ExpectedReturns(data):\n",
    "    return (HistoricalModel(data).iloc[0] - 1)\n",
    "\n",
    "#objective function to minimize using scipy\n",
    "def objective(weights):\n",
    "    cov_matrix = CovMatrixRiskModel(compiledData, 10)\n",
    "\n",
    "    portfolio_return = np.dot(weights,ExpectedReturns(compiledData))\n",
    "    portfolio_std = np.sqrt(np.dot(weights.T, np.dot(cov_matrix,weights)))\n",
    "\n",
    "    risk_free_rate = .0525\n",
    "\n",
    "    sharpe_ratio = (portfolio_return - risk_free_rate) / portfolio_std\n",
    "\n",
    "    return -sharpe_ratio\n",
    "\n",
    "#constraint 1 - the weights of portfolio must equal 1\n",
    "def constraint1(weights):\n",
    "    return (np.sum(weights) - 1)\n",
    "\n",
    "cons1 = {'type' : 'eq', 'fun': constraint1}\n",
    "\n",
    "#constraint 2- the investment return must be greater than or equal to 6%\n",
    "def constraint2(weights):\n",
    "    expected_returns = ExpectedReturns(compiledData)\n",
    "\n",
    "    return np.dot(weights,expected_returns) - .06\n",
    "\n",
    "cons2 = {'type' : 'ineq', 'fun' :constraint2}\n",
    "\n",
    "#constraints\n",
    "cons = [cons1,cons2]\n",
    "\n",
    "#initial guess\n",
    "x0 = np.zeros(len(ExpectedReturns(compiledData)))\n",
    "for x in range (len(ExpectedReturns(compiledData))):\n",
    "    x0[x] = (1/13)\n",
    "\n",
    "#bounds\n",
    "bnds = np.empty((len(ExpectedReturns(compiledData))), dtype = 'object')\n",
    "b = (0,.4)\n",
    "for x in range (len(ExpectedReturns(compiledData))):\n",
    "    bnds[x] = b\n",
    "\n",
    "sol = minimize(fun = objective, x0 = x0, method = 'SLSQP', bounds = bnds, constraints = cons)\n"
   ]
  },
  {
   "cell_type": "code",
   "execution_count": 15,
   "metadata": {},
   "outputs": [
    {
     "name": "stdout",
     "output_type": "stream",
     "text": [
      " message: Optimization terminated successfully\n",
      " success: True\n",
      "  status: 0\n",
      "     fun: -0.1273137126193256\n",
      "       x: [ 4.000e-01  3.327e-16 ...  0.000e+00  0.000e+00]\n",
      "     nit: 9\n",
      "     jac: [-1.326e-01 -3.728e-02 ...  4.350e-02 -1.824e-02]\n",
      "    nfev: 126\n",
      "    njev: 9\n",
      "[4.00000000e-01 3.32678109e-16 3.33066907e-16 4.00000000e-01\n",
      " 0.00000000e+00 1.20147309e-16 0.00000000e+00 4.67067927e-17\n",
      " 4.81606987e-17 2.00000000e-01 1.08045798e-16 0.00000000e+00\n",
      " 0.00000000e+00]\n"
     ]
    }
   ],
   "source": [
    "slsqp_solution = sol.x\n",
    "print(sol)\n",
    "print(slsqp_solution)\n"
   ]
  }
 ],
 "metadata": {
  "kernelspec": {
   "display_name": "base",
   "language": "python",
   "name": "python3"
  },
  "language_info": {
   "codemirror_mode": {
    "name": "ipython",
    "version": 3
   },
   "file_extension": ".py",
   "mimetype": "text/x-python",
   "name": "python",
   "nbconvert_exporter": "python",
   "pygments_lexer": "ipython3",
   "version": "3.10.10"
  }
 },
 "nbformat": 4,
 "nbformat_minor": 2
}
